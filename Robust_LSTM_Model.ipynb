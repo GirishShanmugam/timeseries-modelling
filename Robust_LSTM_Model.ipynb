{
  "nbformat": 4,
  "nbformat_minor": 0,
  "metadata": {
    "colab": {
      "name": "Robust LSTM Model.ipynb",
      "provenance": [],
      "toc_visible": true
    },
    "kernelspec": {
      "name": "python3",
      "display_name": "Python 3"
    },
    "accelerator": "GPU"
  },
  "cells": [
    {
      "cell_type": "markdown",
      "metadata": {
        "id": "nUEmZiR3qnLL"
      },
      "source": [
        "Find the suitable values for the hyperparameters(epochs, batch size, lstm units, dropout) of the LSTM model which give the best results "
      ]
    },
    {
      "cell_type": "code",
      "metadata": {
        "colab": {
          "base_uri": "https://localhost:8080/"
        },
        "id": "1sm_bV7wqn9_",
        "outputId": "9fa8d065-7e23-49bf-ed1e-eb2013478f9f"
      },
      "source": [
        "import os\n",
        "import datetime\n",
        "\n",
        "import IPython\n",
        "import IPython.display\n",
        "import matplotlib as mpl\n",
        "import matplotlib.pyplot as plt\n",
        "import numpy as np\n",
        "import pandas as pd\n",
        "import seaborn as sns\n",
        "import tensorflow as tf\n",
        "\n",
        "mpl.rcParams['figure.figsize'] = (8, 6)\n",
        "mpl.rcParams['axes.grid'] = False\n",
        "\n",
        "zip_path = tf.keras.utils.get_file(\n",
        "    origin='https://storage.googleapis.com/tensorflow/tf-keras-datasets/jena_climate_2009_2016.csv.zip',\n",
        "    fname='jena_climate_2009_2016.csv.zip',\n",
        "    extract=True)\n",
        "csv_path, _ = os.path.splitext(zip_path)\n",
        "\n",
        "df = pd.read_csv(csv_path)\n",
        "# slice [start:stop:step], starting from index 5 take every 6th record.\n",
        "df = df[5::6]\n",
        "date_time = pd.to_datetime(df.pop('Date Time'), format='%d.%m.%Y %H:%M:%S')\n",
        "# Cleaning the data\n",
        "wv = df['wv (m/s)']\n",
        "bad_wv = wv == -9999.0\n",
        "wv[bad_wv] = 0.0\n",
        "\n",
        "max_wv = df['max. wv (m/s)']\n",
        "bad_max_wv = max_wv == -9999.0\n",
        "max_wv[bad_max_wv] = 0.0\n",
        "\n",
        "wv = df.pop('wv (m/s)')\n",
        "max_wv = df.pop('max. wv (m/s)')\n",
        "\n",
        "# Convert to radians.\n",
        "wd_rad = df.pop('wd (deg)')*np.pi / 180\n",
        "\n",
        "# Calculate the wind x and y components.\n",
        "df['Wx'] = wv*np.cos(wd_rad)\n",
        "df['Wy'] = wv*np.sin(wd_rad)\n",
        "\n",
        "# Calculate the max wind x and y components.\n",
        "df['max Wx'] = max_wv*np.cos(wd_rad)\n",
        "df['max Wy'] = max_wv*np.sin(wd_rad)\n",
        "\n",
        "timestamp_s = date_time.map(datetime.datetime.timestamp)\n",
        "\n",
        "day = 24*60*60\n",
        "year = (365.2425)*day\n",
        "\n",
        "df['Day sin'] = np.sin(timestamp_s * (2 * np.pi / day))\n",
        "df['Day cos'] = np.cos(timestamp_s * (2 * np.pi / day))\n",
        "df['Year sin'] = np.sin(timestamp_s * (2 * np.pi / year))\n",
        "df['Year cos'] = np.cos(timestamp_s * (2 * np.pi / year))\n",
        "\n"
      ],
      "execution_count": 1,
      "outputs": [
        {
          "output_type": "stream",
          "text": [
            "Downloading data from https://storage.googleapis.com/tensorflow/tf-keras-datasets/jena_climate_2009_2016.csv.zip\n",
            "13574144/13568290 [==============================] - 0s 0us/step\n"
          ],
          "name": "stdout"
        }
      ]
    },
    {
      "cell_type": "code",
      "metadata": {
        "id": "DbmmqgbErNH9"
      },
      "source": [
        "def split_data(df):\n",
        "  column_indices = {name: i for i, name in enumerate(df.columns)}\n",
        "  n = len(df)\n",
        "  train_df = df[0:int(n*0.7)]\n",
        "  val_df = df[int(n*0.7):int(n*0.9)]\n",
        "  test_df = df[int(n*0.9):]\n",
        "  return train_df, val_df, test_df\n",
        "\n",
        "def add_noise(test_df, mu, sigma):\n",
        "  # generate a random number from a normal distribution\n",
        "  # creating a noise with the same dimension as the dataset\n",
        "  noise = np.random.normal(mu, sigma, test_df.shape)\n",
        "  # adding the noise to the dataset\n",
        "  noisy_test_df = test_df + noise\n",
        "  return noisy_test_df\n",
        "\n",
        "def normalise_data(train_df, val_df, test_df, noisy_test_df):\n",
        "  num_features = df.shape[1]\n",
        "  train_mean = train_df.mean()\n",
        "  train_std = train_df.std()\n",
        "\n",
        "  train_df = (train_df - train_mean) / train_std\n",
        "  val_df = (val_df - train_mean) / train_std\n",
        "  test_df = (test_df - train_mean) / train_std\n",
        "  noisy_test_df = (noisy_test_df - train_mean) / train_std\n",
        "  return train_df, val_df, test_df, noisy_test_df\n",
        "\n",
        "def train_ss_so_model(wide_window):\n",
        "  num_features = wide_window.train_df.shape[1]\n",
        "  ss_so_model = tf.keras.models.Sequential([\n",
        "      # Shape [batch, time, features] => [batch, time, lstm_units]\n",
        "      tf.keras.layers.LSTM(32, return_sequences=True),\n",
        "      # Shape => [batch, time, features]\n",
        "      tf.keras.layers.Dense(units=1)\n",
        "  ])\n",
        "  print('Input shape:', wide_window.example[0].shape)\n",
        "  print('Output shape:', ss_so_model(wide_window.example[0]).shape)\n",
        "  ss_so_model_history = compile_and_fit(ss_so_model, wide_window)\n",
        "  return ss_so_model, ss_so_model_history\n",
        "\n",
        "def split_window(self, features):\n",
        "  inputs = features[:, self.input_slice, :]\n",
        "  labels = features[:, self.labels_slice, :]\n",
        "  if self.label_columns is not None:\n",
        "    labels = tf.stack(\n",
        "        [labels[:, :, self.column_indices[name]] for name in self.label_columns],\n",
        "        axis=-1)\n",
        "\n",
        "  # Slicing doesn't preserve static shape information, so set the shapes\n",
        "  # manually. This way the `tf.data.Datasets` are easier to inspect.\n",
        "  inputs.set_shape([None, self.input_width, None])\n",
        "  labels.set_shape([None, self.label_width, None])\n",
        "\n",
        "  return inputs, labels\n",
        "\n",
        "def make_dataset(self, data):\n",
        "  data = np.array(data, dtype=np.float32)\n",
        "  ds = tf.keras.preprocessing.timeseries_dataset_from_array(\n",
        "      data=data,\n",
        "      targets=None,\n",
        "      sequence_length=self.total_window_size,\n",
        "      sequence_stride=1,\n",
        "      shuffle=True,\n",
        "      batch_size=32)\n",
        "  ds = ds.map(self.split_window)\n",
        "  return ds\n",
        "    \n",
        "@property\n",
        "def train(self):\n",
        "  return self.make_dataset(self.train_df)\n",
        "\n",
        "@property\n",
        "def val(self):\n",
        "  return self.make_dataset(self.val_df)\n",
        "\n",
        "@property\n",
        "def test(self):\n",
        "  return self.make_dataset(self.test_df)\n",
        "\n",
        "@property\n",
        "def noisy_test(self):\n",
        "  return self.make_dataset(self.noisy_test_df)\n",
        "\n",
        "@property\n",
        "def example(self):\n",
        "  \"\"\"Get and cache an example batch of `inputs, labels` for plotting.\"\"\"\n",
        "  result = getattr(self, '_example', None)\n",
        "  if result is None:\n",
        "    # No example batch was found, so get one from the `.train` dataset\n",
        "    result = next(iter(self.train))\n",
        "    # And cache it for next time\n",
        "    self._example = result\n",
        "  return result\n",
        "\n",
        "\n",
        "def compile_and_fit(model, window, patience=2):\n",
        "  early_stopping = tf.keras.callbacks.EarlyStopping(monitor='val_loss',\n",
        "                                                    patience=patience,\n",
        "                                                    mode='min')\n",
        "\n",
        "  model.compile(loss=tf.losses.MeanSquaredError(),\n",
        "                optimizer=tf.optimizers.Adam(),\n",
        "                metrics=[tf.metrics.MeanAbsoluteError()])\n",
        "\n",
        "  history = model.fit(window.train, epochs=MAX_EPOCHS,\n",
        "                      validation_data=window.val,\n",
        "                      callbacks=[early_stopping])\n",
        "  return history\n",
        "\n",
        "# Split dataset into 70%, 20% and 10%\n",
        "train_df, val_df, test_df = split_data(df)\n",
        "mu, sigma = 0, 0\n",
        "noisy_test_df = add_noise(test_df, mu, sigma)\n",
        "# Normalise the dataset\n",
        "train_df, val_df, test_df, noisy_test_df = normalise_data(train_df, val_df, test_df, noisy_test_df)"
      ],
      "execution_count": 37,
      "outputs": []
    },
    {
      "cell_type": "markdown",
      "metadata": {
        "id": "OREFtJs6rh80"
      },
      "source": [
        "# Finding best epoch"
      ]
    },
    {
      "cell_type": "code",
      "metadata": {
        "colab": {
          "base_uri": "https://localhost:8080/"
        },
        "id": "SRTI6DCuq_jS",
        "outputId": "6c0ab7fa-6309-47d0-e911-1b3b64fa4658"
      },
      "source": [
        "MAX_EPOCHS = 20\n",
        "class WindowGenerator():\n",
        "  def __init__(self, input_width, label_width, shift,\n",
        "               train_df=train_df, val_df=val_df, test_df=test_df, \n",
        "               noisy_test_df=noisy_test_df, label_columns=None):\n",
        "    # Store the raw data.\n",
        "    self.train_df = train_df\n",
        "    self.val_df = val_df\n",
        "    self.test_df = test_df\n",
        "    self.noisy_test_df = noisy_test_df\n",
        "\n",
        "    # Work out the label column indices.\n",
        "    self.label_columns = label_columns\n",
        "    if label_columns is not None:\n",
        "      self.label_columns_indices = {name: i for i, name in\n",
        "                                    enumerate(label_columns)}\n",
        "    self.column_indices = {name: i for i, name in\n",
        "                           enumerate(train_df.columns)}\n",
        "\n",
        "    # Work out the window parameters.\n",
        "    self.input_width = input_width\n",
        "    self.label_width = label_width\n",
        "    self.shift = shift\n",
        "\n",
        "    self.total_window_size = input_width + shift\n",
        "\n",
        "    self.input_slice = slice(0, input_width)\n",
        "    self.input_indices = np.arange(self.total_window_size)[self.input_slice]\n",
        "\n",
        "    self.label_start = self.total_window_size - self.label_width\n",
        "    self.labels_slice = slice(self.label_start, None)\n",
        "    self.label_indices = np.arange(self.total_window_size)[self.labels_slice]\n",
        "\n",
        "  def __repr__(self):\n",
        "    return '\\n'.join([\n",
        "        f'Total window size: {self.total_window_size}',\n",
        "        f'Input indices: {self.input_indices}',\n",
        "        f'Label indices: {self.label_indices}',\n",
        "        f'Label column name(s): {self.label_columns}'])\n",
        "\n",
        "\n",
        "WindowGenerator.split_window = split_window\n",
        "WindowGenerator.make_dataset = make_dataset\n",
        "WindowGenerator.train = train\n",
        "WindowGenerator.val = val\n",
        "WindowGenerator.test = test\n",
        "WindowGenerator.noisy_test = noisy_test\n",
        "WindowGenerator.example = example\n",
        "\n",
        "# Perdict only one target variable (Temperature)\n",
        "ss_so_window = WindowGenerator(\n",
        "    input_width=24, label_width=24, shift=1,\n",
        "    label_columns=['T (degC)'])\n",
        "\n",
        "# Single step single output model\n",
        "ss_so_model, history = train_ss_so_model(ss_so_window)"
      ],
      "execution_count": 8,
      "outputs": [
        {
          "output_type": "stream",
          "text": [
            "Input shape: (32, 24, 19)\n",
            "Output shape: (32, 24, 1)\n",
            "Epoch 1/20\n",
            "1533/1533 [==============================] - 21s 12ms/step - loss: 0.0786 - mean_absolute_error: 0.1532 - val_loss: 0.0066 - val_mean_absolute_error: 0.0571\n",
            "Epoch 2/20\n",
            "1533/1533 [==============================] - 17s 11ms/step - loss: 0.0066 - mean_absolute_error: 0.0569 - val_loss: 0.0060 - val_mean_absolute_error: 0.0537\n",
            "Epoch 3/20\n",
            "1533/1533 [==============================] - 18s 12ms/step - loss: 0.0061 - mean_absolute_error: 0.0541 - val_loss: 0.0058 - val_mean_absolute_error: 0.0531\n",
            "Epoch 4/20\n",
            "1533/1533 [==============================] - 18s 12ms/step - loss: 0.0059 - mean_absolute_error: 0.0529 - val_loss: 0.0057 - val_mean_absolute_error: 0.0522\n",
            "Epoch 5/20\n",
            "1533/1533 [==============================] - 17s 11ms/step - loss: 0.0057 - mean_absolute_error: 0.0522 - val_loss: 0.0056 - val_mean_absolute_error: 0.0515\n",
            "Epoch 6/20\n",
            "1533/1533 [==============================] - 18s 12ms/step - loss: 0.0056 - mean_absolute_error: 0.0517 - val_loss: 0.0056 - val_mean_absolute_error: 0.0512\n",
            "Epoch 7/20\n",
            "1533/1533 [==============================] - 18s 11ms/step - loss: 0.0055 - mean_absolute_error: 0.0512 - val_loss: 0.0056 - val_mean_absolute_error: 0.0513\n",
            "Epoch 8/20\n",
            "1533/1533 [==============================] - 18s 11ms/step - loss: 0.0054 - mean_absolute_error: 0.0509 - val_loss: 0.0056 - val_mean_absolute_error: 0.0508\n",
            "Epoch 9/20\n",
            "1533/1533 [==============================] - 18s 12ms/step - loss: 0.0054 - mean_absolute_error: 0.0506 - val_loss: 0.0056 - val_mean_absolute_error: 0.0517\n",
            "Epoch 10/20\n",
            "1533/1533 [==============================] - 18s 12ms/step - loss: 0.0053 - mean_absolute_error: 0.0503 - val_loss: 0.0056 - val_mean_absolute_error: 0.0519\n"
          ],
          "name": "stdout"
        }
      ]
    },
    {
      "cell_type": "code",
      "metadata": {
        "colab": {
          "base_uri": "https://localhost:8080/",
          "height": 282
        },
        "id": "Ugvi1j76uWjB",
        "outputId": "8d09e930-fa28-489e-98f1-c9b1530b1001"
      },
      "source": [
        "xc = range(len(history.history['loss']))\n",
        "plt.figure()\n",
        "plt.plot(xc, history.history['loss'])\n",
        "plt.plot(xc, history.history['val_loss'])\n"
      ],
      "execution_count": 24,
      "outputs": [
        {
          "output_type": "execute_result",
          "data": {
            "text/plain": [
              "[<matplotlib.lines.Line2D at 0x7fc52e529198>]"
            ]
          },
          "metadata": {
            "tags": []
          },
          "execution_count": 24
        },
        {
          "output_type": "display_data",
          "data": {
            "image/png": "[encoded data removed]",
            "text/plain": [
              "<Figure size 432x288 with 1 Axes>"
            ]
          },
          "metadata": {
            "tags": [],
            "needs_background": "light"
          }
        }
      ]
    },
    {
      "cell_type": "markdown",
      "metadata": {
        "id": "sB1lw0jjtGSp"
      },
      "source": [
        "Since the validation loss is not improving much, 20 epochs should be more than enough for training. It might start overfitting if we increase the epochs\n",
        "# Find batch size"
      ]
    },
    {
      "cell_type": "code",
      "metadata": {
        "id": "szMj_YUouc1_"
      },
      "source": [
        "def batch_size(batch_size):\n",
        "  def make_dataset(self, data):\n",
        "    data = np.array(data, dtype=np.float32)\n",
        "    ds = tf.keras.preprocessing.timeseries_dataset_from_array(\n",
        "        data=data,\n",
        "        targets=None,\n",
        "        sequence_length=self.total_window_size,\n",
        "        sequence_stride=1,\n",
        "        shuffle=True,\n",
        "        batch_size=batch_size)\n",
        "    ds = ds.map(self.split_window)\n",
        "    return ds\n",
        "\n",
        "  MAX_EPOCHS = 20\n",
        "  class WindowGenerator():\n",
        "    def __init__(self, input_width, label_width, shift,\n",
        "                train_df=train_df, val_df=val_df, test_df=test_df, \n",
        "                noisy_test_df=noisy_test_df, label_columns=None):\n",
        "      # Store the raw data.\n",
        "      self.train_df = train_df\n",
        "      self.val_df = val_df\n",
        "      self.test_df = test_df\n",
        "      self.noisy_test_df = noisy_test_df\n",
        "\n",
        "      # Work out the label column indices.\n",
        "      self.label_columns = label_columns\n",
        "      if label_columns is not None:\n",
        "        self.label_columns_indices = {name: i for i, name in\n",
        "                                      enumerate(label_columns)}\n",
        "      self.column_indices = {name: i for i, name in\n",
        "                            enumerate(train_df.columns)}\n",
        "\n",
        "      # Work out the window parameters.\n",
        "      self.input_width = input_width\n",
        "      self.label_width = label_width\n",
        "      self.shift = shift\n",
        "\n",
        "      self.total_window_size = input_width + shift\n",
        "\n",
        "      self.input_slice = slice(0, input_width)\n",
        "      self.input_indices = np.arange(self.total_window_size)[self.input_slice]\n",
        "\n",
        "      self.label_start = self.total_window_size - self.label_width\n",
        "      self.labels_slice = slice(self.label_start, None)\n",
        "      self.label_indices = np.arange(self.total_window_size)[self.labels_slice]\n",
        "\n",
        "    def __repr__(self):\n",
        "      return '\\n'.join([\n",
        "          f'Total window size: {self.total_window_size}',\n",
        "          f'Input indices: {self.input_indices}',\n",
        "          f'Label indices: {self.label_indices}',\n",
        "          f'Label column name(s): {self.label_columns}'])\n",
        "\n",
        "\n",
        "  WindowGenerator.split_window = split_window\n",
        "  WindowGenerator.make_dataset = make_dataset\n",
        "  WindowGenerator.train = train\n",
        "  WindowGenerator.val = val\n",
        "  WindowGenerator.test = test\n",
        "  WindowGenerator.noisy_test = noisy_test\n",
        "  WindowGenerator.example = example\n",
        "\n",
        "  # Perdict only one target variable (Temperature)\n",
        "  ss_so_window = WindowGenerator(\n",
        "      input_width=24, label_width=24, shift=1,\n",
        "      label_columns=['T (degC)'])\n",
        "\n",
        "  # Single step single output model\n",
        "  ss_so_model, history = train_ss_so_model(ss_so_window)\n",
        "\n",
        "  xc = range(len(history.history['loss']))\n",
        "  plt.figure()\n",
        "  plt.plot(xc, history.history['loss'])\n",
        "  plt.plot(xc, history.history['val_loss'])\n"
      ],
      "execution_count": 29,
      "outputs": []
    },
    {
      "cell_type": "code",
      "metadata": {
        "colab": {
          "base_uri": "https://localhost:8080/",
          "height": 455
        },
        "id": "c3QfXUGO1_gM",
        "outputId": "0ca79eda-2ecb-4078-fff0-26c1e8c6dd36"
      },
      "source": [
        "batch_size(1)"
      ],
      "execution_count": 31,
      "outputs": [
        {
          "output_type": "stream",
          "text": [
            "Input shape: (1, 24, 19)\n",
            "Output shape: (1, 24, 1)\n",
            "Epoch 1/20\n",
            "49039/49039 [==============================] - 365s 7ms/step - loss: 0.0148 - mean_absolute_error: 0.0717 - val_loss: 0.0056 - val_mean_absolute_error: 0.0515\n",
            "Epoch 2/20\n",
            "49039/49039 [==============================] - 364s 7ms/step - loss: 0.0057 - mean_absolute_error: 0.0524 - val_loss: 0.0056 - val_mean_absolute_error: 0.0512\n",
            "Epoch 3/20\n",
            "49039/49039 [==============================] - 363s 7ms/step - loss: 0.0053 - mean_absolute_error: 0.0510 - val_loss: 0.0057 - val_mean_absolute_error: 0.0521\n",
            "Epoch 4/20\n",
            "49039/49039 [==============================] - 364s 7ms/step - loss: 0.0051 - mean_absolute_error: 0.0501 - val_loss: 0.0058 - val_mean_absolute_error: 0.0525\n"
          ],
          "name": "stdout"
        },
        {
          "output_type": "display_data",
          "data": {
            "image/png": "[encoded data removed]",
            "text/plain": [
              "<Figure size 432x288 with 1 Axes>"
            ]
          },
          "metadata": {
            "tags": [],
            "needs_background": "light"
          }
        }
      ]
    },
    {
      "cell_type": "code",
      "metadata": {
        "colab": {
          "base_uri": "https://localhost:8080/",
          "height": 489
        },
        "id": "foepYX3e1oOp",
        "outputId": "86d1c602-6e14-4ab0-f95c-cb24d59c2e2a"
      },
      "source": [
        "batch_size(4)"
      ],
      "execution_count": 30,
      "outputs": [
        {
          "output_type": "stream",
          "text": [
            "Input shape: (4, 24, 19)\n",
            "Output shape: (4, 24, 1)\n",
            "Epoch 1/20\n",
            "12260/12260 [==============================] - 109s 9ms/step - loss: 0.0267 - mean_absolute_error: 0.0883 - val_loss: 0.0057 - val_mean_absolute_error: 0.0520\n",
            "Epoch 2/20\n",
            "12260/12260 [==============================] - 106s 9ms/step - loss: 0.0058 - mean_absolute_error: 0.0529 - val_loss: 0.0056 - val_mean_absolute_error: 0.0512\n",
            "Epoch 3/20\n",
            "12260/12260 [==============================] - 106s 9ms/step - loss: 0.0055 - mean_absolute_error: 0.0512 - val_loss: 0.0055 - val_mean_absolute_error: 0.0509\n",
            "Epoch 4/20\n",
            "12260/12260 [==============================] - 106s 9ms/step - loss: 0.0053 - mean_absolute_error: 0.0504 - val_loss: 0.0055 - val_mean_absolute_error: 0.0509\n",
            "Epoch 5/20\n",
            "12260/12260 [==============================] - 108s 9ms/step - loss: 0.0051 - mean_absolute_error: 0.0499 - val_loss: 0.0056 - val_mean_absolute_error: 0.0518\n"
          ],
          "name": "stdout"
        },
        {
          "output_type": "display_data",
          "data": {
            "image/png": "[encoded data removed]",
            "text/plain": [
              "<Figure size 432x288 with 1 Axes>"
            ]
          },
          "metadata": {
            "tags": [],
            "needs_background": "light"
          }
        }
      ]
    },
    {
      "cell_type": "code",
      "metadata": {
        "colab": {
          "base_uri": "https://localhost:8080/",
          "height": 659
        },
        "id": "SSEpk-xX1-Ex",
        "outputId": "8fc4503b-afb1-4d3d-db57-e9cafd57042c"
      },
      "source": [
        "batch_size(32)"
      ],
      "execution_count": 34,
      "outputs": [
        {
          "output_type": "stream",
          "text": [
            "Input shape: (32, 24, 19)\n",
            "Output shape: (32, 24, 1)\n",
            "Epoch 1/20\n",
            "1533/1533 [==============================] - 21s 12ms/step - loss: 0.0760 - mean_absolute_error: 0.1515 - val_loss: 0.0066 - val_mean_absolute_error: 0.0578\n",
            "Epoch 2/20\n",
            "1533/1533 [==============================] - 19s 12ms/step - loss: 0.0066 - mean_absolute_error: 0.0569 - val_loss: 0.0060 - val_mean_absolute_error: 0.0540\n",
            "Epoch 3/20\n",
            "1533/1533 [==============================] - 19s 12ms/step - loss: 0.0060 - mean_absolute_error: 0.0538 - val_loss: 0.0057 - val_mean_absolute_error: 0.0521\n",
            "Epoch 4/20\n",
            "1533/1533 [==============================] - 19s 12ms/step - loss: 0.0058 - mean_absolute_error: 0.0525 - val_loss: 0.0058 - val_mean_absolute_error: 0.0528\n",
            "Epoch 5/20\n",
            "1533/1533 [==============================] - 19s 12ms/step - loss: 0.0056 - mean_absolute_error: 0.0518 - val_loss: 0.0057 - val_mean_absolute_error: 0.0521\n",
            "Epoch 6/20\n",
            "1533/1533 [==============================] - 19s 12ms/step - loss: 0.0055 - mean_absolute_error: 0.0513 - val_loss: 0.0055 - val_mean_absolute_error: 0.0513\n",
            "Epoch 7/20\n",
            "1533/1533 [==============================] - 19s 12ms/step - loss: 0.0054 - mean_absolute_error: 0.0508 - val_loss: 0.0055 - val_mean_absolute_error: 0.0513\n",
            "Epoch 8/20\n",
            "1533/1533 [==============================] - 19s 12ms/step - loss: 0.0053 - mean_absolute_error: 0.0505 - val_loss: 0.0055 - val_mean_absolute_error: 0.0511\n",
            "Epoch 9/20\n",
            "1533/1533 [==============================] - 19s 12ms/step - loss: 0.0053 - mean_absolute_error: 0.0501 - val_loss: 0.0056 - val_mean_absolute_error: 0.0514\n",
            "Epoch 10/20\n",
            "1533/1533 [==============================] - 19s 12ms/step - loss: 0.0052 - mean_absolute_error: 0.0499 - val_loss: 0.0057 - val_mean_absolute_error: 0.0525\n"
          ],
          "name": "stdout"
        },
        {
          "output_type": "display_data",
          "data": {
            "image/png": "[encoded data removed]",
            "text/plain": [
              "<Figure size 432x288 with 1 Axes>"
            ]
          },
          "metadata": {
            "tags": [],
            "needs_background": "light"
          }
        }
      ]
    },
    {
      "cell_type": "markdown",
      "metadata": {
        "id": "jrL3l7NgwfRM"
      },
      "source": [
        "Batch size of 1 and 4 takes too long to train(more than 100s) for single epoch. With batch size 32 we get the same result with faster execution time\n",
        "# Find LSTM Units"
      ]
    },
    {
      "cell_type": "code",
      "metadata": {
        "id": "AhRoguYhBKno"
      },
      "source": [
        "def change_units(units):\n",
        "  def train_ss_so_model(wide_window, unit_value):\n",
        "    num_features = wide_window.train_df.shape[1]\n",
        "    ss_so_model = tf.keras.models.Sequential([\n",
        "        # Shape [batch, time, features] => [batch, time, lstm_units]\n",
        "        tf.keras.layers.LSTM(unit_value, return_sequences=True),\n",
        "        # Shape => [batch, time, features]\n",
        "        tf.keras.layers.Dense(units=1)\n",
        "    ])\n",
        "    print('Input shape:', wide_window.example[0].shape)\n",
        "    print('Output shape:', ss_so_model(wide_window.example[0]).shape)\n",
        "    ss_so_model_history = compile_and_fit(ss_so_model, wide_window)\n",
        "    return ss_so_model, ss_so_model_history\n",
        "\n",
        "  MAX_EPOCHS = 20\n",
        "  class WindowGenerator():\n",
        "    def __init__(self, input_width, label_width, shift,\n",
        "                train_df=train_df, val_df=val_df, test_df=test_df, \n",
        "                noisy_test_df=noisy_test_df, label_columns=None):\n",
        "      # Store the raw data.\n",
        "      self.train_df = train_df\n",
        "      self.val_df = val_df\n",
        "      self.test_df = test_df\n",
        "      self.noisy_test_df = noisy_test_df\n",
        "\n",
        "      # Work out the label column indices.\n",
        "      self.label_columns = label_columns\n",
        "      if label_columns is not None:\n",
        "        self.label_columns_indices = {name: i for i, name in\n",
        "                                      enumerate(label_columns)}\n",
        "      self.column_indices = {name: i for i, name in\n",
        "                            enumerate(train_df.columns)}\n",
        "\n",
        "      # Work out the window parameters.\n",
        "      self.input_width = input_width\n",
        "      self.label_width = label_width\n",
        "      self.shift = shift\n",
        "\n",
        "      self.total_window_size = input_width + shift\n",
        "\n",
        "      self.input_slice = slice(0, input_width)\n",
        "      self.input_indices = np.arange(self.total_window_size)[self.input_slice]\n",
        "\n",
        "      self.label_start = self.total_window_size - self.label_width\n",
        "      self.labels_slice = slice(self.label_start, None)\n",
        "      self.label_indices = np.arange(self.total_window_size)[self.labels_slice]\n",
        "\n",
        "    def __repr__(self):\n",
        "      return '\\n'.join([\n",
        "          f'Total window size: {self.total_window_size}',\n",
        "          f'Input indices: {self.input_indices}',\n",
        "          f'Label indices: {self.label_indices}',\n",
        "          f'Label column name(s): {self.label_columns}'])\n",
        "\n",
        "\n",
        "  WindowGenerator.split_window = split_window\n",
        "  WindowGenerator.make_dataset = make_dataset\n",
        "  WindowGenerator.train = train\n",
        "  WindowGenerator.val = val\n",
        "  WindowGenerator.test = test\n",
        "  WindowGenerator.noisy_test = noisy_test\n",
        "  WindowGenerator.example = example\n",
        "\n",
        "  # Perdict only one target variable (Temperature)\n",
        "  ss_so_window = WindowGenerator(\n",
        "      input_width=24, label_width=24, shift=1,\n",
        "      label_columns=['T (degC)'])\n",
        "\n",
        "  # Single step single output model\n",
        "  ss_so_model, history = train_ss_so_model(ss_so_window, units)\n",
        "\n",
        "  xc = range(len(history.history['loss']))\n",
        "  plt.figure()\n",
        "  plt.plot(xc, history.history['loss'])\n",
        "  plt.plot(xc, history.history['val_loss'])"
      ],
      "execution_count": 38,
      "outputs": []
    },
    {
      "cell_type": "code",
      "metadata": {
        "colab": {
          "base_uri": "https://localhost:8080/",
          "height": 829
        },
        "id": "DPIP1WYIB99Q",
        "outputId": "0e722bdb-6945-4150-8a85-62c74728025a"
      },
      "source": [
        "change_units(1)"
      ],
      "execution_count": 39,
      "outputs": [
        {
          "output_type": "stream",
          "text": [
            "Input shape: (32, 24, 19)\n",
            "Output shape: (32, 24, 1)\n",
            "Epoch 1/20\n",
            "1533/1533 [==============================] - 20s 11ms/step - loss: 0.5259 - mean_absolute_error: 0.5389 - val_loss: 0.0416 - val_mean_absolute_error: 0.1237\n",
            "Epoch 2/20\n",
            "1533/1533 [==============================] - 18s 11ms/step - loss: 0.0408 - mean_absolute_error: 0.1193 - val_loss: 0.0149 - val_mean_absolute_error: 0.0756\n",
            "Epoch 3/20\n",
            "1533/1533 [==============================] - 17s 11ms/step - loss: 0.0160 - mean_absolute_error: 0.0776 - val_loss: 0.0108 - val_mean_absolute_error: 0.0685\n",
            "Epoch 4/20\n",
            "1533/1533 [==============================] - 17s 11ms/step - loss: 0.0113 - mean_absolute_error: 0.0702 - val_loss: 0.0092 - val_mean_absolute_error: 0.0660\n",
            "Epoch 5/20\n",
            "1533/1533 [==============================] - 17s 11ms/step - loss: 0.0095 - mean_absolute_error: 0.0669 - val_loss: 0.0084 - val_mean_absolute_error: 0.0645\n",
            "Epoch 6/20\n",
            "1533/1533 [==============================] - 17s 11ms/step - loss: 0.0086 - mean_absolute_error: 0.0648 - val_loss: 0.0080 - val_mean_absolute_error: 0.0632\n",
            "Epoch 7/20\n",
            "1533/1533 [==============================] - 18s 11ms/step - loss: 0.0081 - mean_absolute_error: 0.0635 - val_loss: 0.0078 - val_mean_absolute_error: 0.0621\n",
            "Epoch 8/20\n",
            "1533/1533 [==============================] - 17s 11ms/step - loss: 0.0079 - mean_absolute_error: 0.0628 - val_loss: 0.0076 - val_mean_absolute_error: 0.0618\n",
            "Epoch 9/20\n",
            "1533/1533 [==============================] - 18s 11ms/step - loss: 0.0078 - mean_absolute_error: 0.0623 - val_loss: 0.0075 - val_mean_absolute_error: 0.0611\n",
            "Epoch 10/20\n",
            "1533/1533 [==============================] - 18s 12ms/step - loss: 0.0077 - mean_absolute_error: 0.0619 - val_loss: 0.0074 - val_mean_absolute_error: 0.0608\n",
            "Epoch 11/20\n",
            "1533/1533 [==============================] - 17s 11ms/step - loss: 0.0076 - mean_absolute_error: 0.0617 - val_loss: 0.0074 - val_mean_absolute_error: 0.0612\n",
            "Epoch 12/20\n",
            "1533/1533 [==============================] - 17s 11ms/step - loss: 0.0076 - mean_absolute_error: 0.0616 - val_loss: 0.0074 - val_mean_absolute_error: 0.0611\n",
            "Epoch 13/20\n",
            "1533/1533 [==============================] - 17s 11ms/step - loss: 0.0076 - mean_absolute_error: 0.0614 - val_loss: 0.0073 - val_mean_absolute_error: 0.0608\n",
            "Epoch 14/20\n",
            "1533/1533 [==============================] - 18s 12ms/step - loss: 0.0076 - mean_absolute_error: 0.0614 - val_loss: 0.0073 - val_mean_absolute_error: 0.0609\n",
            "Epoch 15/20\n",
            "1533/1533 [==============================] - 17s 11ms/step - loss: 0.0076 - mean_absolute_error: 0.0613 - val_loss: 0.0074 - val_mean_absolute_error: 0.0612\n"
          ],
          "name": "stdout"
        },
        {
          "output_type": "display_data",
          "data": {
            "image/png": "[encoded data removed]",
            "text/plain": [
              "<Figure size 432x288 with 1 Axes>"
            ]
          },
          "metadata": {
            "tags": [],
            "needs_background": "light"
          }
        }
      ]
    },
    {
      "cell_type": "code",
      "metadata": {
        "colab": {
          "base_uri": "https://localhost:8080/",
          "height": 727
        },
        "id": "-tU99KBQCRNK",
        "outputId": "46574816-49b0-4ccc-d68e-a5427c9f6b04"
      },
      "source": [
        "change_units(16)"
      ],
      "execution_count": 40,
      "outputs": [
        {
          "output_type": "stream",
          "text": [
            "Input shape: (32, 24, 19)\n",
            "Output shape: (32, 24, 1)\n",
            "Epoch 1/20\n",
            "1533/1533 [==============================] - 21s 12ms/step - loss: 0.1247 - mean_absolute_error: 0.2051 - val_loss: 0.0087 - val_mean_absolute_error: 0.0675\n",
            "Epoch 2/20\n",
            "1533/1533 [==============================] - 18s 12ms/step - loss: 0.0081 - mean_absolute_error: 0.0641 - val_loss: 0.0065 - val_mean_absolute_error: 0.0567\n",
            "Epoch 3/20\n",
            "1533/1533 [==============================] - 18s 12ms/step - loss: 0.0066 - mean_absolute_error: 0.0569 - val_loss: 0.0060 - val_mean_absolute_error: 0.0539\n",
            "Epoch 4/20\n",
            "1533/1533 [==============================] - 18s 12ms/step - loss: 0.0062 - mean_absolute_error: 0.0547 - val_loss: 0.0058 - val_mean_absolute_error: 0.0529\n",
            "Epoch 5/20\n",
            "1533/1533 [==============================] - 18s 12ms/step - loss: 0.0060 - mean_absolute_error: 0.0537 - val_loss: 0.0058 - val_mean_absolute_error: 0.0525\n",
            "Epoch 6/20\n",
            "1533/1533 [==============================] - 18s 12ms/step - loss: 0.0059 - mean_absolute_error: 0.0530 - val_loss: 0.0057 - val_mean_absolute_error: 0.0519\n",
            "Epoch 7/20\n",
            "1533/1533 [==============================] - 18s 12ms/step - loss: 0.0058 - mean_absolute_error: 0.0526 - val_loss: 0.0057 - val_mean_absolute_error: 0.0520\n",
            "Epoch 8/20\n",
            "1533/1533 [==============================] - 18s 12ms/step - loss: 0.0057 - mean_absolute_error: 0.0523 - val_loss: 0.0056 - val_mean_absolute_error: 0.0517\n",
            "Epoch 9/20\n",
            "1533/1533 [==============================] - 18s 12ms/step - loss: 0.0057 - mean_absolute_error: 0.0520 - val_loss: 0.0056 - val_mean_absolute_error: 0.0515\n",
            "Epoch 10/20\n",
            "1533/1533 [==============================] - 18s 12ms/step - loss: 0.0056 - mean_absolute_error: 0.0517 - val_loss: 0.0056 - val_mean_absolute_error: 0.0512\n",
            "Epoch 11/20\n",
            "1533/1533 [==============================] - 18s 12ms/step - loss: 0.0056 - mean_absolute_error: 0.0516 - val_loss: 0.0057 - val_mean_absolute_error: 0.0520\n",
            "Epoch 12/20\n",
            "1533/1533 [==============================] - 18s 12ms/step - loss: 0.0056 - mean_absolute_error: 0.0514 - val_loss: 0.0057 - val_mean_absolute_error: 0.0522\n"
          ],
          "name": "stdout"
        },
        {
          "output_type": "display_data",
          "data": {
            "image/png": "[encoded data removed]",
            "text/plain": [
              "<Figure size 432x288 with 1 Axes>"
            ]
          },
          "metadata": {
            "tags": [],
            "needs_background": "light"
          }
        }
      ]
    },
    {
      "cell_type": "code",
      "metadata": {
        "colab": {
          "base_uri": "https://localhost:8080/",
          "height": 659
        },
        "id": "y57zllDOCTsU",
        "outputId": "a3b46ef0-deaa-41ed-b87d-e6fd26920800"
      },
      "source": [
        "change_units(32)"
      ],
      "execution_count": 41,
      "outputs": [
        {
          "output_type": "stream",
          "text": [
            "Input shape: (32, 24, 19)\n",
            "Output shape: (32, 24, 1)\n",
            "Epoch 1/20\n",
            "1533/1533 [==============================] - 21s 12ms/step - loss: 0.0447 - mean_absolute_error: 0.1255 - val_loss: 0.0063 - val_mean_absolute_error: 0.0556\n",
            "Epoch 2/20\n",
            "1533/1533 [==============================] - 19s 12ms/step - loss: 0.0063 - mean_absolute_error: 0.0554 - val_loss: 0.0059 - val_mean_absolute_error: 0.0531\n",
            "Epoch 3/20\n",
            "1533/1533 [==============================] - 19s 12ms/step - loss: 0.0059 - mean_absolute_error: 0.0531 - val_loss: 0.0057 - val_mean_absolute_error: 0.0522\n",
            "Epoch 4/20\n",
            "1533/1533 [==============================] - 19s 12ms/step - loss: 0.0057 - mean_absolute_error: 0.0521 - val_loss: 0.0056 - val_mean_absolute_error: 0.0513\n",
            "Epoch 5/20\n",
            "1533/1533 [==============================] - 19s 12ms/step - loss: 0.0056 - mean_absolute_error: 0.0514 - val_loss: 0.0056 - val_mean_absolute_error: 0.0513\n",
            "Epoch 6/20\n",
            "1533/1533 [==============================] - 19s 12ms/step - loss: 0.0055 - mean_absolute_error: 0.0511 - val_loss: 0.0056 - val_mean_absolute_error: 0.0520\n",
            "Epoch 7/20\n",
            "1533/1533 [==============================] - 19s 12ms/step - loss: 0.0054 - mean_absolute_error: 0.0506 - val_loss: 0.0056 - val_mean_absolute_error: 0.0515\n",
            "Epoch 8/20\n",
            "1533/1533 [==============================] - 19s 12ms/step - loss: 0.0053 - mean_absolute_error: 0.0502 - val_loss: 0.0055 - val_mean_absolute_error: 0.0511\n",
            "Epoch 9/20\n",
            "1533/1533 [==============================] - 19s 12ms/step - loss: 0.0053 - mean_absolute_error: 0.0500 - val_loss: 0.0056 - val_mean_absolute_error: 0.0514\n",
            "Epoch 10/20\n",
            "1533/1533 [==============================] - 19s 12ms/step - loss: 0.0052 - mean_absolute_error: 0.0498 - val_loss: 0.0056 - val_mean_absolute_error: 0.0515\n"
          ],
          "name": "stdout"
        },
        {
          "output_type": "display_data",
          "data": {
            "image/png": "[encoded data removed]",
            "text/plain": [
              "<Figure size 432x288 with 1 Axes>"
            ]
          },
          "metadata": {
            "tags": [],
            "needs_background": "light"
          }
        }
      ]
    },
    {
      "cell_type": "code",
      "metadata": {
        "colab": {
          "base_uri": "https://localhost:8080/",
          "height": 489
        },
        "id": "0SKaXW4xCUvF",
        "outputId": "e25ef9a2-bbdf-4b2c-a3fe-e2e7fd72f517"
      },
      "source": [
        "change_units(64)"
      ],
      "execution_count": 42,
      "outputs": [
        {
          "output_type": "stream",
          "text": [
            "Input shape: (32, 24, 19)\n",
            "Output shape: (32, 24, 1)\n",
            "Epoch 1/20\n",
            "1533/1533 [==============================] - 23s 13ms/step - loss: 0.0585 - mean_absolute_error: 0.1296 - val_loss: 0.0063 - val_mean_absolute_error: 0.0558\n",
            "Epoch 2/20\n",
            "1533/1533 [==============================] - 20s 13ms/step - loss: 0.0062 - mean_absolute_error: 0.0548 - val_loss: 0.0058 - val_mean_absolute_error: 0.0527\n",
            "Epoch 3/20\n",
            "1533/1533 [==============================] - 20s 13ms/step - loss: 0.0058 - mean_absolute_error: 0.0528 - val_loss: 0.0056 - val_mean_absolute_error: 0.0520\n",
            "Epoch 4/20\n",
            "1533/1533 [==============================] - 20s 13ms/step - loss: 0.0056 - mean_absolute_error: 0.0519 - val_loss: 0.0057 - val_mean_absolute_error: 0.0524\n",
            "Epoch 5/20\n",
            "1533/1533 [==============================] - 20s 13ms/step - loss: 0.0054 - mean_absolute_error: 0.0509 - val_loss: 0.0058 - val_mean_absolute_error: 0.0534\n"
          ],
          "name": "stdout"
        },
        {
          "output_type": "display_data",
          "data": {
            "image/png": "[encoded data removed]",
            "text/plain": [
              "<Figure size 432x288 with 1 Axes>"
            ]
          },
          "metadata": {
            "tags": [],
            "needs_background": "light"
          }
        }
      ]
    },
    {
      "cell_type": "markdown",
      "metadata": {
        "id": "H-qW-Kl7FdsW"
      },
      "source": [
        "For 32 units we get the best performance. Increasing further does not show any improvement\n",
        "\n",
        "# Explore Dropout"
      ]
    },
    {
      "cell_type": "code",
      "metadata": {
        "id": "nQpl4mKYFsa0"
      },
      "source": [
        "def change_dropout(dv):\n",
        "  def train_ss_so_model(wide_window, dv):\n",
        "    num_features = wide_window.train_df.shape[1]\n",
        "    ss_so_model = tf.keras.models.Sequential([\n",
        "        # Shape [batch, time, features] => [batch, time, lstm_units]\n",
        "        tf.keras.layers.LSTM(32, return_sequences=True, dropout=dv),\n",
        "        # Shape => [batch, time, features]\n",
        "        tf.keras.layers.Dense(units=1)\n",
        "    ])\n",
        "    print('Input shape:', wide_window.example[0].shape)\n",
        "    print('Output shape:', ss_so_model(wide_window.example[0]).shape)\n",
        "    ss_so_model_history = compile_and_fit(ss_so_model, wide_window)\n",
        "    return ss_so_model, ss_so_model_history\n",
        "\n",
        "  MAX_EPOCHS = 20\n",
        "  class WindowGenerator():\n",
        "    def __init__(self, input_width, label_width, shift,\n",
        "                train_df=train_df, val_df=val_df, test_df=test_df, \n",
        "                noisy_test_df=noisy_test_df, label_columns=None):\n",
        "      # Store the raw data.\n",
        "      self.train_df = train_df\n",
        "      self.val_df = val_df\n",
        "      self.test_df = test_df\n",
        "      self.noisy_test_df = noisy_test_df\n",
        "\n",
        "      # Work out the label column indices.\n",
        "      self.label_columns = label_columns\n",
        "      if label_columns is not None:\n",
        "        self.label_columns_indices = {name: i for i, name in\n",
        "                                      enumerate(label_columns)}\n",
        "      self.column_indices = {name: i for i, name in\n",
        "                            enumerate(train_df.columns)}\n",
        "\n",
        "      # Work out the window parameters.\n",
        "      self.input_width = input_width\n",
        "      self.label_width = label_width\n",
        "      self.shift = shift\n",
        "\n",
        "      self.total_window_size = input_width + shift\n",
        "\n",
        "      self.input_slice = slice(0, input_width)\n",
        "      self.input_indices = np.arange(self.total_window_size)[self.input_slice]\n",
        "\n",
        "      self.label_start = self.total_window_size - self.label_width\n",
        "      self.labels_slice = slice(self.label_start, None)\n",
        "      self.label_indices = np.arange(self.total_window_size)[self.labels_slice]\n",
        "\n",
        "    def __repr__(self):\n",
        "      return '\\n'.join([\n",
        "          f'Total window size: {self.total_window_size}',\n",
        "          f'Input indices: {self.input_indices}',\n",
        "          f'Label indices: {self.label_indices}',\n",
        "          f'Label column name(s): {self.label_columns}'])\n",
        "\n",
        "\n",
        "  WindowGenerator.split_window = split_window\n",
        "  WindowGenerator.make_dataset = make_dataset\n",
        "  WindowGenerator.train = train\n",
        "  WindowGenerator.val = val\n",
        "  WindowGenerator.test = test\n",
        "  WindowGenerator.noisy_test = noisy_test\n",
        "  WindowGenerator.example = example\n",
        "\n",
        "  # Perdict only one target variable (Temperature)\n",
        "  ss_so_window = WindowGenerator(\n",
        "      input_width=24, label_width=24, shift=1,\n",
        "      label_columns=['T (degC)'])\n",
        "\n",
        "  # Single step single output model\n",
        "  ss_so_model, history = train_ss_so_model(ss_so_window, dv)\n",
        "\n",
        "  xc = range(len(history.history['loss']))\n",
        "  plt.figure()\n",
        "  plt.plot(xc, history.history['loss'])\n",
        "  plt.plot(xc, history.history['val_loss'])"
      ],
      "execution_count": 46,
      "outputs": []
    },
    {
      "cell_type": "code",
      "metadata": {
        "colab": {
          "base_uri": "https://localhost:8080/",
          "height": 727
        },
        "id": "6HWGXVBgI68y",
        "outputId": "16c7c510-1244-4481-b84d-c809de921ed4"
      },
      "source": [
        "change_dropout(0.01)"
      ],
      "execution_count": 51,
      "outputs": [
        {
          "output_type": "stream",
          "text": [
            "Input shape: (32, 24, 19)\n",
            "Output shape: (32, 24, 1)\n",
            "Epoch 1/20\n",
            "1533/1533 [==============================] - 21s 12ms/step - loss: 0.0331 - mean_absolute_error: 0.1130 - val_loss: 0.0067 - val_mean_absolute_error: 0.0575\n",
            "Epoch 2/20\n",
            "1533/1533 [==============================] - 19s 12ms/step - loss: 0.0079 - mean_absolute_error: 0.0622 - val_loss: 0.0062 - val_mean_absolute_error: 0.0548\n",
            "Epoch 3/20\n",
            "1533/1533 [==============================] - 19s 12ms/step - loss: 0.0073 - mean_absolute_error: 0.0597 - val_loss: 0.0060 - val_mean_absolute_error: 0.0546\n",
            "Epoch 4/20\n",
            "1533/1533 [==============================] - 19s 12ms/step - loss: 0.0069 - mean_absolute_error: 0.0583 - val_loss: 0.0059 - val_mean_absolute_error: 0.0533\n",
            "Epoch 5/20\n",
            "1533/1533 [==============================] - 19s 12ms/step - loss: 0.0066 - mean_absolute_error: 0.0572 - val_loss: 0.0060 - val_mean_absolute_error: 0.0548\n",
            "Epoch 6/20\n",
            "1533/1533 [==============================] - 19s 12ms/step - loss: 0.0063 - mean_absolute_error: 0.0560 - val_loss: 0.0057 - val_mean_absolute_error: 0.0521\n",
            "Epoch 7/20\n",
            "1533/1533 [==============================] - 19s 12ms/step - loss: 0.0061 - mean_absolute_error: 0.0550 - val_loss: 0.0058 - val_mean_absolute_error: 0.0533\n",
            "Epoch 8/20\n",
            "1533/1533 [==============================] - 19s 12ms/step - loss: 0.0060 - mean_absolute_error: 0.0541 - val_loss: 0.0057 - val_mean_absolute_error: 0.0518\n",
            "Epoch 9/20\n",
            "1533/1533 [==============================] - 19s 12ms/step - loss: 0.0059 - mean_absolute_error: 0.0535 - val_loss: 0.0058 - val_mean_absolute_error: 0.0534\n",
            "Epoch 10/20\n",
            "1533/1533 [==============================] - 18s 12ms/step - loss: 0.0058 - mean_absolute_error: 0.0531 - val_loss: 0.0056 - val_mean_absolute_error: 0.0513\n",
            "Epoch 11/20\n",
            "1533/1533 [==============================] - 19s 12ms/step - loss: 0.0057 - mean_absolute_error: 0.0527 - val_loss: 0.0056 - val_mean_absolute_error: 0.0517\n",
            "Epoch 12/20\n",
            "1533/1533 [==============================] - 19s 12ms/step - loss: 0.0057 - mean_absolute_error: 0.0524 - val_loss: 0.0057 - val_mean_absolute_error: 0.0523\n"
          ],
          "name": "stdout"
        },
        {
          "output_type": "display_data",
          "data": {
            "image/png": "[encoded data removed]",
            "text/plain": [
              "<Figure size 432x288 with 1 Axes>"
            ]
          },
          "metadata": {
            "tags": [],
            "needs_background": "light"
          }
        }
      ]
    },
    {
      "cell_type": "code",
      "metadata": {
        "colab": {
          "base_uri": "https://localhost:8080/",
          "height": 455
        },
        "id": "_EdS_LB2HUxm",
        "outputId": "abbf5bae-0950-4e01-d4e1-8ca0ad0fc28f"
      },
      "source": [
        "change_dropout(0.1)"
      ],
      "execution_count": 50,
      "outputs": [
        {
          "output_type": "stream",
          "text": [
            "Input shape: (32, 24, 19)\n",
            "Output shape: (32, 24, 1)\n",
            "Epoch 1/20\n",
            "1533/1533 [==============================] - 22s 13ms/step - loss: 0.0976 - mean_absolute_error: 0.1795 - val_loss: 0.0088 - val_mean_absolute_error: 0.0689\n",
            "Epoch 2/20\n",
            "1533/1533 [==============================] - 19s 12ms/step - loss: 0.0145 - mean_absolute_error: 0.0886 - val_loss: 0.0081 - val_mean_absolute_error: 0.0654\n",
            "Epoch 3/20\n",
            "1533/1533 [==============================] - 19s 12ms/step - loss: 0.0121 - mean_absolute_error: 0.0805 - val_loss: 0.0082 - val_mean_absolute_error: 0.0663\n",
            "Epoch 4/20\n",
            "1533/1533 [==============================] - 19s 12ms/step - loss: 0.0101 - mean_absolute_error: 0.0731 - val_loss: 0.0086 - val_mean_absolute_error: 0.0688\n"
          ],
          "name": "stdout"
        },
        {
          "output_type": "display_data",
          "data": {
            "image/png": "[encoded data removed]",
            "text/plain": [
              "<Figure size 432x288 with 1 Axes>"
            ]
          },
          "metadata": {
            "tags": [],
            "needs_background": "light"
          }
        }
      ]
    },
    {
      "cell_type": "code",
      "metadata": {
        "colab": {
          "base_uri": "https://localhost:8080/",
          "height": 421
        },
        "id": "E0fp3lZpGz0g",
        "outputId": "97c181d5-5470-4b19-afcc-9c617f3b3ee0"
      },
      "source": [
        "change_dropout(0.2)"
      ],
      "execution_count": 47,
      "outputs": [
        {
          "output_type": "stream",
          "text": [
            "Input shape: (32, 24, 19)\n",
            "Output shape: (32, 24, 1)\n",
            "Epoch 1/20\n",
            "1533/1533 [==============================] - 21s 12ms/step - loss: 0.1032 - mean_absolute_error: 0.1989 - val_loss: 0.0120 - val_mean_absolute_error: 0.0805\n",
            "Epoch 2/20\n",
            "1533/1533 [==============================] - 19s 12ms/step - loss: 0.0196 - mean_absolute_error: 0.1037 - val_loss: 0.0124 - val_mean_absolute_error: 0.0810\n",
            "Epoch 3/20\n",
            "1533/1533 [==============================] - 19s 12ms/step - loss: 0.0155 - mean_absolute_error: 0.0922 - val_loss: 0.0170 - val_mean_absolute_error: 0.0968\n"
          ],
          "name": "stdout"
        },
        {
          "output_type": "display_data",
          "data": {
            "image/png": "[encoded data removed]",
            "text/plain": [
              "<Figure size 432x288 with 1 Axes>"
            ]
          },
          "metadata": {
            "tags": [],
            "needs_background": "light"
          }
        }
      ]
    },
    {
      "cell_type": "code",
      "metadata": {
        "colab": {
          "base_uri": "https://localhost:8080/",
          "height": 421
        },
        "id": "r1PpRJ9mG4zV",
        "outputId": "7b45ca1c-93e9-4e12-ecda-88da70b1ba73"
      },
      "source": [
        "change_dropout(0.4)"
      ],
      "execution_count": 48,
      "outputs": [
        {
          "output_type": "stream",
          "text": [
            "Input shape: (32, 24, 19)\n",
            "Output shape: (32, 24, 1)\n",
            "Epoch 1/20\n",
            "1533/1533 [==============================] - 21s 12ms/step - loss: 0.0864 - mean_absolute_error: 0.1993 - val_loss: 0.0207 - val_mean_absolute_error: 0.1047\n",
            "Epoch 2/20\n",
            "1533/1533 [==============================] - 19s 12ms/step - loss: 0.0274 - mean_absolute_error: 0.1232 - val_loss: 0.0410 - val_mean_absolute_error: 0.1415\n",
            "Epoch 3/20\n",
            "1533/1533 [==============================] - 19s 13ms/step - loss: 0.0211 - mean_absolute_error: 0.1078 - val_loss: 0.0568 - val_mean_absolute_error: 0.1723\n"
          ],
          "name": "stdout"
        },
        {
          "output_type": "display_data",
          "data": {
            "image/png": "[encoded data removed]",
            "text/plain": [
              "<Figure size 432x288 with 1 Axes>"
            ]
          },
          "metadata": {
            "tags": [],
            "needs_background": "light"
          }
        }
      ]
    },
    {
      "cell_type": "code",
      "metadata": {
        "colab": {
          "base_uri": "https://localhost:8080/",
          "height": 425
        },
        "id": "3F0s8zwTG41z",
        "outputId": "87e63a98-9760-4cd3-b7ba-2458d4e71536"
      },
      "source": [
        "change_dropout(0.6)"
      ],
      "execution_count": 49,
      "outputs": [
        {
          "output_type": "stream",
          "text": [
            "Input shape: (32, 24, 19)\n",
            "Output shape: (32, 24, 1)\n",
            "Epoch 1/20\n",
            "1533/1533 [==============================] - 22s 13ms/step - loss: 0.1221 - mean_absolute_error: 0.2419 - val_loss: 0.0602 - val_mean_absolute_error: 0.1689\n",
            "Epoch 2/20\n",
            "1533/1533 [==============================] - 19s 12ms/step - loss: 0.0409 - mean_absolute_error: 0.1494 - val_loss: 0.1327 - val_mean_absolute_error: 0.2617\n",
            "Epoch 3/20\n",
            "1533/1533 [==============================] - 19s 12ms/step - loss: 0.0305 - mean_absolute_error: 0.1281 - val_loss: 0.2161 - val_mean_absolute_error: 0.3501\n"
          ],
          "name": "stdout"
        },
        {
          "output_type": "display_data",
          "data": {
            "image/png": "[encoded data removed]",
            "text/plain": [
              "<Figure size 432x288 with 1 Axes>"
            ]
          },
          "metadata": {
            "tags": [],
            "needs_background": "light"
          }
        }
      ]
    },
    {
      "cell_type": "markdown",
      "metadata": {
        "id": "NB867SWCtaX5"
      },
      "source": [
        "Adding dropout values does not seem to improve the performance of our model. Using a very low dropout value gives a result close to the one without using an dropout.\n",
        "\n",
        "**We get the best result when we use train the model using batch size of 32 with 32 LSTM units for 20 epochs without using any dropout**\n",
        "\n",
        "# References\n",
        "1. https://machinelearningmastery.com/tune-lstm-hyperparameters-keras-time-series-forecasting/\n",
        "2. https://www.tensorflow.org/api_docs/python/tf/keras/layers/LSTM\n"
      ]
    }
  ]
}